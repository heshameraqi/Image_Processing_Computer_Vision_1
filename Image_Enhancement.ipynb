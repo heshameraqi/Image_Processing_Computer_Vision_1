{
  "nbformat": 4,
  "nbformat_minor": 0,
  "metadata": {
    "colab": {
      "name": "Image_Enhancement.ipynb",
      "provenance": []
    },
    "kernelspec": {
      "name": "python3",
      "display_name": "Python 3"
    }
  },
  "cells": [
    {
      "cell_type": "code",
      "metadata": {
        "id": "XjKuy29KAJ3N"
      },
      "source": [
        "!wget -O image.jpg https://upload.wikimedia.org/wikipedia/commons/0/08/Unequalized_Hawkes_Bay_NZ.jpg\r\n",
        "\r\n",
        "import cv2\r\n",
        "import numpy as np\r\n",
        "from matplotlib import pyplot as plt\r\n",
        "\r\n",
        "img = cv2.imread('image.jpg',0)\r\n",
        "\r\n",
        "# Calcuate histograms and CDF\r\n",
        "hist,bins = np.histogram(img.flatten(),256,[0,256])\r\n",
        "cdf = hist.cumsum()\r\n",
        "cdf_normalized = cdf * hist.max() / cdf.max() # Normalize to have the same max for visualization\r\n",
        "\r\n",
        "# Visualzie\r\n",
        "plt.imshow(img, cmap='gray')\r\n",
        "plt.figure()\r\n",
        "plt.plot(cdf_normalized, color = 'b')\r\n",
        "plt.hist(img.flatten(),256,[0,256], color = 'r')\r\n",
        "plt.xlim([0,256])\r\n",
        "plt.legend(('cdf','histogram'), loc = 'upper left')\r\n",
        "plt.show()"
      ],
      "execution_count": null,
      "outputs": []
    },
    {
      "cell_type": "code",
      "metadata": {
        "id": "sC8N3zgGBYob"
      },
      "source": [
        "# Histgram Equalization Theoretically\r\n",
        "cdf_m = np.ma.masked_equal(cdf,0)\r\n",
        "cdf_m = (cdf_m - cdf_m.min())*255/(cdf_m.max()-cdf_m.min())\r\n",
        "cdf = np.ma.filled(cdf_m,0).astype('uint8')\r\n",
        "img2 = cdf[img]\r\n",
        "\r\n",
        "# Histgram Equalization with OpenCV\r\n",
        "img3 = cv2.equalizeHist(img)\r\n",
        "\r\n",
        "# Calcuate histograms and CDF\r\n",
        "hist2,bins2 = np.histogram(img2.flatten(),256,[0,256])\r\n",
        "cdf2 = hist2.cumsum()\r\n",
        "cdf_normalized2 = cdf2 * hist2.max() / cdf2.max() # Normalize to have the same max for visualization\r\n",
        "\r\n",
        "# Visualize results\r\n",
        "plt.imshow(img, cmap='gray')\r\n",
        "plt.figure()\r\n",
        "plt.imshow(img2, cmap='gray')\r\n",
        "plt.figure()\r\n",
        "plt.imshow(img3, cmap='gray')\r\n",
        "plt.figure()\r\n",
        "plt.plot(cdf_normalized2, color = 'b')\r\n",
        "plt.hist(img2.flatten(),256,[0,256], color = 'r')\r\n",
        "plt.xlim([0,256])\r\n",
        "plt.legend(('cdf','histogram'), loc = 'upper left')\r\n",
        "plt.show()"
      ],
      "execution_count": null,
      "outputs": []
    },
    {
      "cell_type": "code",
      "metadata": {
        "id": "_NDoX7-kEk48"
      },
      "source": [
        "# Adaptive Histogram Equalization\r\n",
        "clahe = cv2.createCLAHE(clipLimit=2.0, tileGridSize=(8,8))\r\n",
        "cl1 = clahe.apply(img)\r\n",
        "\r\n",
        "# Visualize results\r\n",
        "plt.imshow(img, cmap='gray')\r\n",
        "plt.figure()\r\n",
        "plt.imshow(img2, cmap='gray')\r\n",
        "plt.figure()\r\n",
        "plt.imshow(cl1, cmap='gray')"
      ],
      "execution_count": null,
      "outputs": []
    },
    {
      "cell_type": "markdown",
      "metadata": {
        "id": "XvSTVgwf0Ntd"
      },
      "source": [
        "**Masking Colors**"
      ]
    },
    {
      "cell_type": "code",
      "metadata": {
        "id": "rTb6ykqP0Ne-"
      },
      "source": [
        "!wget -O flower.jpg https://raw.githubusercontent.com/heshameraqi/Image_Processing_Computer_Vision_1/main/flower.jpg\r\n",
        "\r\n",
        "\r\n",
        "img = cv2.imread(\"flower.jpg\")\r\n",
        "hsv = cv2.cvtColor(img, cv2.COLOR_BGR2HSV) # Convert to HSV, In OpenCV: H: 0-179, S: 0-255, V: 0-255\r\n",
        "mask = cv2.inRange(hsv, (36, 0, 0), (70, 255,255)) # Range between two colors\r\n",
        "\r\n",
        "plt.imshow(mask, cmap='gray')"
      ],
      "execution_count": null,
      "outputs": []
    },
    {
      "cell_type": "markdown",
      "metadata": {
        "id": "Cz_R_ueHFtnd"
      },
      "source": [
        "**Exercise: Download an image and implement and experiment with any of the following on it: Negative Transformation, Brightness Thresholding, Grey Level Slicing, and Contrast Stretching using log transform.**"
      ]
    }
  ]
}