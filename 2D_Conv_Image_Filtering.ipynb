{
  "nbformat": 4,
  "nbformat_minor": 0,
  "metadata": {
    "colab": {
      "name": "Basic_Concepts.ipynb",
      "provenance": []
    },
    "kernelspec": {
      "name": "python3",
      "display_name": "Python 3"
    }
  },
  "cells": [
    {
      "cell_type": "markdown",
      "metadata": {
        "id": "3ZTrjbHRKkCk"
      },
      "source": [
        "**Day 1 - Convolution and FFT examples**"
      ]
    },
    {
      "cell_type": "markdown",
      "metadata": {
        "id": "KwMMvhlJKqPz"
      },
      "source": [
        "Average Filtering"
      ]
    },
    {
      "cell_type": "code",
      "metadata": {
        "id": "Zh3vtHBHJUCh"
      },
      "source": [
        "!wget -O Picture1.jpg https://static.dw.com/image/49972010_303.jpg\r\n",
        "\r\n",
        "import cv2\r\n",
        "import numpy as np\r\n",
        "import matplotlib.pyplot as plt\r\n",
        "\r\n",
        "Irgb = cv2.imread('Picture1.jpg');\r\n",
        "Irgb = cv2.resize(Irgb, (0,0), fx=0.5, fy=0.5)\r\n",
        "\r\n",
        "h = np.ones((7, 7), np.float32)/(7*7)\r\n",
        "I7 = cv2.filter2D(Irgb, -1, kernel=h)\r\n",
        "\r\n",
        "h = np.ones((11, 11), np.float32)/(11*11)\r\n",
        "I11 = cv2.filter2D(Irgb, -1, kernel=h)\r\n",
        "\r\n",
        "h = np.ones((19, 19), np.float32)/(19*19)\r\n",
        "I19 = cv2.filter2D(Irgb, -1, kernel=h)\r\n",
        "\r\n",
        "fig, ax = plt.subplots(2,2, figsize=(10,6))\r\n",
        "ax[0,0].imshow( cv2.cvtColor(Irgb, cv2.COLOR_BGR2RGB) )\r\n",
        "ax[0,1].imshow( cv2.cvtColor(I7, cv2.COLOR_BGR2RGB) )\r\n",
        "ax[1,0].imshow( cv2.cvtColor(I11, cv2.COLOR_BGR2RGB) )\r\n",
        "ax[1,1].imshow( cv2.cvtColor(I19, cv2.COLOR_BGR2RGB) )\r\n",
        "plt.tight_layout()"
      ],
      "execution_count": null,
      "outputs": []
    },
    {
      "cell_type": "markdown",
      "metadata": {
        "id": "VyDAyvfBRr1R"
      },
      "source": [
        "Edge Detection"
      ]
    },
    {
      "cell_type": "code",
      "metadata": {
        "id": "cCouWRj1RqoR"
      },
      "source": [
        "Igray = cv2.cvtColor(Irgb, cv2.COLOR_BGR2GRAY)\r\n",
        "\r\n",
        "h = np.array([[-1, -1, -1], [-1, 8, -1], [-1, -1, -1]])\r\n",
        "Iedge = cv2.filter2D(Igray, -1, kernel=h)\r\n",
        "\r\n",
        "fig, ax = plt.subplots(2,2, figsize=(10,6))\r\n",
        "ax[0,0].imshow( cv2.cvtColor(Irgb, cv2.COLOR_BGR2RGB) )\r\n",
        "ax[0,1].imshow( Igray, cmap='gray' )\r\n",
        "ax[1,0].imshow( Iedge, cmap='gray' )\r\n",
        "plt.tight_layout()"
      ],
      "execution_count": null,
      "outputs": []
    },
    {
      "cell_type": "markdown",
      "metadata": {
        "id": "fZLKR2TGSToQ"
      },
      "source": [
        "Motion"
      ]
    },
    {
      "cell_type": "code",
      "metadata": {
        "id": "C7c7zaYTSV6H"
      },
      "source": [
        "size = 30\r\n",
        "kernel_motion_blur = np.zeros((size, size))\r\n",
        "kernel_motion_blur[int((size-1)/2), :] = np.ones(size)\r\n",
        "kernel_motion_blur = kernel_motion_blur / size\r\n",
        "\r\n",
        "Imotion = cv2.filter2D(Igray, -1, kernel=kernel_motion_blur)\r\n",
        "\r\n",
        "fig, ax = plt.subplots(2,2, figsize=(10,6))\r\n",
        "ax[0,0].imshow( cv2.cvtColor(Irgb, cv2.COLOR_BGR2RGB) )\r\n",
        "ax[0,1].imshow( Igray, cmap='gray' )\r\n",
        "ax[1,0].imshow( kernel_motion_blur, cmap='gray' )\r\n",
        "ax[1,1].imshow( Imotion, cmap='gray' )\r\n",
        "plt.tight_layout()"
      ],
      "execution_count": null,
      "outputs": []
    },
    {
      "cell_type": "markdown",
      "metadata": {
        "id": "Z_a6157OTl8-"
      },
      "source": [
        "2D Discrete Fourier Transform (DFT) is used to find the frequency domain. A fast algorithm called Fast Fourier Transform (FFT) is used for calculation of DFT. "
      ]
    },
    {
      "cell_type": "code",
      "metadata": {
        "id": "acjpnENETlhu"
      },
      "source": [
        "f = np.fft.fft2(Igray)\r\n",
        "fshift = np.fft.fftshift(f)  # zero frequency component (DC component) is on top left corner, bring it to center\r\n",
        "magnitude_spectrum = 20*np.log(np.abs(fshift))\r\n",
        "\r\n",
        "fig, ax = plt.subplots(1,2, figsize=(10,6))\r\n",
        "ax[0].imshow( Igray, cmap='gray' )\r\n",
        "ax[1].imshow( magnitude_spectrum, cmap='gray' )\r\n",
        "plt.tight_layout()"
      ],
      "execution_count": null,
      "outputs": []
    },
    {
      "cell_type": "markdown",
      "metadata": {
        "id": "8a3pCz8EWioE"
      },
      "source": [
        "Inverse FFT"
      ]
    },
    {
      "cell_type": "code",
      "metadata": {
        "id": "JGpCli7oWbSl"
      },
      "source": [
        "img_back  = np.fft.ifft2(fshift)\r\n",
        "img_back  = abs(img_back)\r\n",
        "\r\n",
        "fig, ax = plt.subplots(2,2, figsize=(10,6))\r\n",
        "ax[0,0].imshow( Igray, cmap='gray' )\r\n",
        "ax[0,1].imshow( magnitude_spectrum, cmap='gray' )\r\n",
        "ax[1,0].imshow( img_back, cmap='gray' )\r\n",
        "plt.tight_layout()"
      ],
      "execution_count": null,
      "outputs": []
    },
    {
      "cell_type": "markdown",
      "metadata": {
        "id": "XY1ekwbqXanM"
      },
      "source": [
        "Changing frequency domain"
      ]
    },
    {
      "cell_type": "code",
      "metadata": {
        "id": "jLomy0H1XhZ7"
      },
      "source": [
        "fshift_updated = fshift.copy()\r\n",
        "fshift_updated[75:125, 150:200] = 0 +0j\r\n",
        "magnitude_spectrum_new = 20*np.log(np.abs(fshift_updated))\r\n",
        "\r\n",
        "img_back_updated = np.fft.ifft2(fshift_updated)\r\n",
        "img_back_updated = np.abs(img_back_updated)\r\n",
        "\r\n",
        "fig, ax = plt.subplots(2,2, figsize=(10,6))\r\n",
        "ax[0,0].imshow( Igray, cmap='gray' )\r\n",
        "ax[0,1].imshow( magnitude_spectrum, cmap='gray' )\r\n",
        "ax[1,0].imshow( magnitude_spectrum_new, cmap='gray' )\r\n",
        "ax[1,1].imshow( img_back_updated, cmap='gray' )\r\n",
        "plt.tight_layout()"
      ],
      "execution_count": null,
      "outputs": []
    },
    {
      "cell_type": "code",
      "metadata": {
        "id": "mCGWlWTcal0L"
      },
      "source": [
        "fshift_new = np.zeros((800,800), dtype=complex)\r\n",
        "rows = int(fshift.shape[0]/2)\r\n",
        "cols = int(fshift.shape[1]/2)\r\n",
        "fshift_new[400-rows:400+rows+1, 400-cols:400+cols] = fshift\r\n",
        "magnitude_spectrum_new = 20*np.log(np.abs(fshift_new))\r\n",
        "\r\n",
        "img_back_new = np.fft.ifft2(fshift_new)\r\n",
        "img_back_new = np.abs(img_back_new)\r\n",
        "\r\n",
        "fig, ax = plt.subplots(2,2, figsize=(10,6))\r\n",
        "ax[0,0].imshow( Igray, cmap='gray' )\r\n",
        "ax[0,1].imshow( magnitude_spectrum, cmap='gray' )\r\n",
        "ax[1,0].imshow( magnitude_spectrum_new, cmap='gray' )\r\n",
        "ax[1,1].imshow( img_back_new, cmap='gray' )\r\n",
        "plt.tight_layout()"
      ],
      "execution_count": null,
      "outputs": []
    }
  ]
}