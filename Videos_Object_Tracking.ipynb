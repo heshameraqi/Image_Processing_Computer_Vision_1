{
  "nbformat": 4,
  "nbformat_minor": 0,
  "metadata": {
    "colab": {
      "name": "Videos_Object_Tracking.ipynb",
      "provenance": []
    },
    "kernelspec": {
      "name": "python3",
      "display_name": "Python 3"
    }
  },
  "cells": [
    {
      "cell_type": "markdown",
      "metadata": {
        "id": "pVc74FYOD-BL"
      },
      "source": [
        "**Video Processing & Video Object Tracking**"
      ]
    },
    {
      "cell_type": "code",
      "metadata": {
        "id": "5K8R5WkMDv2t",
        "colab": {
          "base_uri": "https://localhost:8080/",
          "height": 793
        },
        "outputId": "89296e3a-ff8e-4bed-da89-dadaa8df18ab"
      },
      "source": [
        "!wget -O video.mp4 https://github.com/heshameraqi/Image_Processing_Computer_Vision_1/raw/main/tracking_slow_traffic_small.mp4\r\n",
        "\r\n",
        "import numpy as np\r\n",
        "import cv2\r\n",
        "import matplotlib.pyplot as plt\r\n",
        "#from IPython.display import clear_output # To clear old figure\r\n",
        "#from time import sleep\r\n",
        "\r\n",
        "# Capture video and take first frame of the video\r\n",
        "cap = cv2.VideoCapture('video.mp4')\r\n",
        "ret, frame = cap.read()\r\n",
        "\r\n",
        "# Initial location of window r,h,c,w for tracked object\r\n",
        "r,h,c,w = 200,20,300,20  \r\n",
        "track_window = (c,r,w,h)\r\n",
        "\r\n",
        "# Set up the object (ROI) for tracking\r\n",
        "obj = frame[r:r+h, c:c+w]\r\n",
        "hsv_obj =  cv2.cvtColor(frame, cv2.COLOR_BGR2HSV) # In OpenCV: H: 0-179, S: 0-255, V: 0-255\r\n",
        "mask = cv2.inRange(hsv_obj, (0, 60,32), (180,255,255)) # Mask the vibrant colors (not white not black)\r\n",
        "obj_hist = cv2.calcHist([hsv_obj],[0],mask,[180],[0,180]) # [0] means histogram of hsv_obj H channel only, masked by mask (vibrant), [180] bin count, in range of [0,180]\r\n",
        "\r\n",
        "# Mean Shift algorithm termination criteria, either 10 iteration reached or move by at least 1 pt\r\n",
        "term_crit = ( cv2.TERM_CRITERIA_EPS | cv2.TERM_CRITERIA_COUNT, 10, 1 )\r\n",
        "i = 0\r\n",
        "while(True):\r\n",
        "    ret, frame = cap.read()\r\n",
        "    if ret == True:\r\n",
        "        hsv = cv2.cvtColor(frame, cv2.COLOR_BGR2HSV) # New frame\r\n",
        "        # Back Projection: find a feature in the new frame image by seaching for its histogram model, returns probability image\r\n",
        "        dst = cv2.calcBackProject([hsv],[0], obj_hist, [0,180], 1)\r\n",
        "\r\n",
        "        # Apply meanshift to get the new location\r\n",
        "        ret, track_window = cv2.meanShift(dst, track_window, term_crit)\r\n",
        "\r\n",
        "        # Draw tracking result on image\r\n",
        "        x,y,w,h = track_window\r\n",
        "        img2 = cv2.rectangle(frame, (x,y), (x+w,y+h), 255,2)\r\n",
        "        cv2.imwrite(\"Result%04d.jpg\" % i, img2)\r\n",
        "        i+=1\r\n",
        "        '''clear_output()\r\n",
        "        plt.imshow(cv2.cvtColor(img2, cv2.COLOR_BGR2RGB))\r\n",
        "        plt.show()\r\n",
        "        sleep(1)'''\r\n",
        "    else:\r\n",
        "        break\r\n",
        "\r\n",
        "cap.release() # Release video reader\r\n",
        "\r\n",
        "# Create the resulted video file, then download it manually if needed and watch the result\r\n",
        "!ffmpeg -framerate 30 -r 30 -i 'Result%04d.jpg' -vcodec mpeg4 -y result.mp4 # Save video\r\n",
        "from google.colab import files\r\n",
        "files.download('result.mp4')"
      ],
      "execution_count": 31,
      "outputs": [
        {
          "output_type": "stream",
          "text": [
            "--2021-03-11 15:47:18--  https://github.com/heshameraqi/Image_Processing_Computer_Vision_1/raw/main/tracking_slow_traffic_small.mp4\n",
            "Resolving github.com (github.com)... 140.82.114.4\n",
            "Connecting to github.com (github.com)|140.82.114.4|:443... connected.\n",
            "HTTP request sent, awaiting response... 302 Found\n",
            "Location: https://raw.githubusercontent.com/heshameraqi/Image_Processing_Computer_Vision_1/main/tracking_slow_traffic_small.mp4 [following]\n",
            "--2021-03-11 15:47:19--  https://raw.githubusercontent.com/heshameraqi/Image_Processing_Computer_Vision_1/main/tracking_slow_traffic_small.mp4\n",
            "Resolving raw.githubusercontent.com (raw.githubusercontent.com)... 185.199.108.133, 185.199.109.133, 185.199.110.133, ...\n",
            "Connecting to raw.githubusercontent.com (raw.githubusercontent.com)|185.199.108.133|:443... connected.\n",
            "HTTP request sent, awaiting response... 200 OK\n",
            "Length: 2018126 (1.9M) [application/octet-stream]\n",
            "Saving to: ‘video.mp4’\n",
            "\n",
            "video.mp4           100%[===================>]   1.92M  --.-KB/s    in 0.1s    \n",
            "\n",
            "2021-03-11 15:47:19 (19.2 MB/s) - ‘video.mp4’ saved [2018126/2018126]\n",
            "\n",
            "ffmpeg version 3.4.8-0ubuntu0.2 Copyright (c) 2000-2020 the FFmpeg developers\n",
            "  built with gcc 7 (Ubuntu 7.5.0-3ubuntu1~18.04)\n",
            "  configuration: --prefix=/usr --extra-version=0ubuntu0.2 --toolchain=hardened --libdir=/usr/lib/x86_64-linux-gnu --incdir=/usr/include/x86_64-linux-gnu --enable-gpl --disable-stripping --enable-avresample --enable-avisynth --enable-gnutls --enable-ladspa --enable-libass --enable-libbluray --enable-libbs2b --enable-libcaca --enable-libcdio --enable-libflite --enable-libfontconfig --enable-libfreetype --enable-libfribidi --enable-libgme --enable-libgsm --enable-libmp3lame --enable-libmysofa --enable-libopenjpeg --enable-libopenmpt --enable-libopus --enable-libpulse --enable-librubberband --enable-librsvg --enable-libshine --enable-libsnappy --enable-libsoxr --enable-libspeex --enable-libssh --enable-libtheora --enable-libtwolame --enable-libvorbis --enable-libvpx --enable-libwavpack --enable-libwebp --enable-libx265 --enable-libxml2 --enable-libxvid --enable-libzmq --enable-libzvbi --enable-omx --enable-openal --enable-opengl --enable-sdl2 --enable-libdc1394 --enable-libdrm --enable-libiec61883 --enable-chromaprint --enable-frei0r --enable-libopencv --enable-libx264 --enable-shared\n",
            "  libavutil      55. 78.100 / 55. 78.100\n",
            "  libavcodec     57.107.100 / 57.107.100\n",
            "  libavformat    57. 83.100 / 57. 83.100\n",
            "  libavdevice    57. 10.100 / 57. 10.100\n",
            "  libavfilter     6.107.100 /  6.107.100\n",
            "  libavresample   3.  7.  0 /  3.  7.  0\n",
            "  libswscale      4.  8.100 /  4.  8.100\n",
            "  libswresample   2.  9.100 /  2.  9.100\n",
            "  libpostproc    54.  7.100 / 54.  7.100\n",
            "Input #0, image2, from 'Result%04d.jpg':\n",
            "  Duration: 00:00:30.43, start: 0.000000, bitrate: N/A\n",
            "    Stream #0:0: Video: mjpeg, yuvj420p(pc, bt470bg/unknown/unknown), 640x360 [SAR 1:1 DAR 16:9], 30 fps, 30 tbr, 30 tbn, 30 tbc\n",
            "Stream mapping:\n",
            "  Stream #0:0 -> #0:0 (mjpeg (native) -> mpeg4 (native))\n",
            "Press [q] to stop, [?] for help\n",
            "\u001b[1;34m[swscaler @ 0x55e6dfa12000] \u001b[0m\u001b[0;33mdeprecated pixel format used, make sure you did set range correctly\n",
            "\u001b[0mOutput #0, mp4, to 'result.mp4':\n",
            "  Metadata:\n",
            "    encoder         : Lavf57.83.100\n",
            "    Stream #0:0: Video: mpeg4 (mp4v / 0x7634706D), yuv420p, 640x360 [SAR 1:1 DAR 16:9], q=2-31, 200 kb/s, 30 fps, 15360 tbn, 30 tbc\n",
            "    Metadata:\n",
            "      encoder         : Lavc57.107.100 mpeg4\n",
            "    Side data:\n",
            "      cpb: bitrate max/min/avg: 0/0/200000 buffer size: 0 vbv_delay: -1\n",
            "frame=  913 fps=334 q=13.3 Lsize=     956kB time=00:00:30.40 bitrate= 257.7kbits/s speed=11.1x    \n",
            "video:951kB audio:0kB subtitle:0kB other streams:0kB global headers:0kB muxing overhead: 0.496156%\n"
          ],
          "name": "stdout"
        },
        {
          "output_type": "display_data",
          "data": {
            "application/javascript": [
              "\n",
              "    async function download(id, filename, size) {\n",
              "      if (!google.colab.kernel.accessAllowed) {\n",
              "        return;\n",
              "      }\n",
              "      const div = document.createElement('div');\n",
              "      const label = document.createElement('label');\n",
              "      label.textContent = `Downloading \"${filename}\": `;\n",
              "      div.appendChild(label);\n",
              "      const progress = document.createElement('progress');\n",
              "      progress.max = size;\n",
              "      div.appendChild(progress);\n",
              "      document.body.appendChild(div);\n",
              "\n",
              "      const buffers = [];\n",
              "      let downloaded = 0;\n",
              "\n",
              "      const channel = await google.colab.kernel.comms.open(id);\n",
              "      // Send a message to notify the kernel that we're ready.\n",
              "      channel.send({})\n",
              "\n",
              "      for await (const message of channel.messages) {\n",
              "        // Send a message to notify the kernel that we're ready.\n",
              "        channel.send({})\n",
              "        if (message.buffers) {\n",
              "          for (const buffer of message.buffers) {\n",
              "            buffers.push(buffer);\n",
              "            downloaded += buffer.byteLength;\n",
              "            progress.value = downloaded;\n",
              "          }\n",
              "        }\n",
              "      }\n",
              "      const blob = new Blob(buffers, {type: 'application/binary'});\n",
              "      const a = document.createElement('a');\n",
              "      a.href = window.URL.createObjectURL(blob);\n",
              "      a.download = filename;\n",
              "      div.appendChild(a);\n",
              "      a.click();\n",
              "      div.remove();\n",
              "    }\n",
              "  "
            ],
            "text/plain": [
              "<IPython.core.display.Javascript object>"
            ]
          },
          "metadata": {
            "tags": []
          }
        },
        {
          "output_type": "display_data",
          "data": {
            "application/javascript": [
              "download(\"download_f0666ba5-adf2-434e-a4f0-a0790e4ee714\", \"result.mp4\", 979124)"
            ],
            "text/plain": [
              "<IPython.core.display.Javascript object>"
            ]
          },
          "metadata": {
            "tags": []
          }
        }
      ]
    }
  ]
}