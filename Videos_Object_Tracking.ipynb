{
  "nbformat": 4,
  "nbformat_minor": 0,
  "metadata": {
    "colab": {
      "name": "Videos_Object_Tracking.ipynb",
      "provenance": []
    },
    "kernelspec": {
      "name": "python3",
      "display_name": "Python 3"
    }
  },
  "cells": [
    {
      "cell_type": "markdown",
      "metadata": {
        "id": "pVc74FYOD-BL"
      },
      "source": [
        "**Video Processing & Video Object Tracking**"
      ]
    },
    {
      "cell_type": "code",
      "metadata": {
        "id": "5K8R5WkMDv2t"
      },
      "source": [
        "!wget -O video.mp4 https://github.com/heshameraqi/Image_Processing_Computer_Vision_1/raw/main/tracking_slow_traffic_small.mp4\r\n",
        "\r\n",
        "import numpy as np\r\n",
        "import cv2\r\n",
        "import matplotlib.pyplot as plt\r\n",
        "#from IPython.display import clear_output # To clear old figure\r\n",
        "#from time import sleep\r\n",
        "\r\n",
        "# Capture video and take first frame of the video\r\n",
        "cap = cv2.VideoCapture('video.mp4')\r\n",
        "ret, frame = cap.read()\r\n",
        "\r\n",
        "# Initial location of window r,h,c,w for tracked object\r\n",
        "r,h,c,w = 200,20,300,20  \r\n",
        "track_window = (c,r,w,h)\r\n",
        "\r\n",
        "# Set up the object (ROI) for tracking\r\n",
        "obj = frame[r:r+h, c:c+w]\r\n",
        "hsv_obj =  cv2.cvtColor(frame, cv2.COLOR_BGR2HSV) # In OpenCV: H: 0-179, S: 0-255, V: 0-255\r\n",
        "mask = cv2.inRange(hsv_obj, (0, 60,32), (180,255,255)) # Mask the vibrant colors (not white not black)\r\n",
        "obj_hist = cv2.calcHist([hsv_obj],[0],mask,[180],[0,180]) # [0] means histogram of hsv_obj H channel only, masked by mask (vibrant), [180] bin count, in range of [0,180]\r\n",
        "\r\n",
        "# Mean Shift algorithm termination criteria, either 10 iteration or move by at least 1 pt\r\n",
        "term_crit = ( cv2.TERM_CRITERIA_EPS | cv2.TERM_CRITERIA_COUNT, 10, 1 )\r\n",
        "i = 0\r\n",
        "while(True):\r\n",
        "    ret, frame = cap.read()\r\n",
        "    if ret == True:\r\n",
        "        hsv = cv2.cvtColor(frame, cv2.COLOR_BGR2HSV) # New frame\r\n",
        "        # Back Projection: find a feature in the new frame image by seaching for its histogram model, returns probability image\r\n",
        "        dst = cv2.calcBackProject([hsv],[0], obj_hist, [0,180], 1)\r\n",
        "\r\n",
        "        # Apply meanshift to get the new location\r\n",
        "        ret, track_window = cv2.meanShift(dst, track_window, term_crit)\r\n",
        "\r\n",
        "        # Draw tracking result on image\r\n",
        "        x,y,w,h = track_window\r\n",
        "        img2 = cv2.rectangle(frame, (x,y), (x+w,y+h), 255,2)\r\n",
        "        cv2.imwrite(\"Result%04d.jpg\" % i, img2)\r\n",
        "        i+=1\r\n",
        "        '''clear_output()\r\n",
        "        plt.imshow(cv2.cvtColor(img2, cv2.COLOR_BGR2RGB))\r\n",
        "        plt.show()\r\n",
        "        sleep(1)'''\r\n",
        "    else:\r\n",
        "        break\r\n",
        "\r\n",
        "cap.release() # Release video reader\r\n",
        "\r\n",
        "# Create the resulted video file, then download it manually if needed and watch the result\r\n",
        "!ffmpeg -framerate 30 -r 30 -i 'Result%04d.jpg' -vcodec mpeg4 -y result.mp4 # Save video\r\n",
        "from google.colab import files\r\n",
        "files.download('result.mp4')"
      ],
      "execution_count": null,
      "outputs": []
    }
  ]
}