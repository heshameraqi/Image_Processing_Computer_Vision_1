{
  "nbformat": 4,
  "nbformat_minor": 0,
  "metadata": {
    "colab": {
      "name": "Morphology.ipynb",
      "provenance": []
    },
    "kernelspec": {
      "name": "python3",
      "display_name": "Python 3"
    }
  },
  "cells": [
    {
      "cell_type": "markdown",
      "metadata": {
        "id": "J4ThlgFrDmJT"
      },
      "source": [
        "**Morphology**"
      ]
    },
    {
      "cell_type": "code",
      "metadata": {
        "id": "3YXiur7xDgcV"
      },
      "source": [
        "!wget -O image.png https://raw.githubusercontent.com/heshameraqi/Image_Processing_Computer_Vision_1/main/i_sample.png\r\n",
        "\r\n",
        "import cv2 as cv\r\n",
        "import numpy as np\r\n",
        "img = cv.imread('j.png',0)\r\n",
        "\r\n",
        "# Kernel\r\n",
        "kernel = np.ones((5,5),np.uint8)\r\n",
        "\r\n",
        "# 1. Erosion\r\n",
        "erosion = cv.erode(img,kernel,iterations = 1)\r\n",
        "\r\n",
        "# 2. Dilation\r\n",
        "dilation = cv.dilate(img,kernel,iterations = 1)\r\n",
        "\r\n",
        "# 3. Opening\r\n",
        "dilation = cv.morphologyEx(img, cv.MORPH_OPEN, kernel)\r\n",
        "\r\n",
        "# 4. Closing\r\n",
        "dilation = cv.morphologyEx(img, cv.MORPH_CLOSE, kernel)"
      ],
      "execution_count": null,
      "outputs": []
    }
  ]
}