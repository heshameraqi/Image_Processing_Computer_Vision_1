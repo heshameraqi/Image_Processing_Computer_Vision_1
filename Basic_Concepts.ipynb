{
  "nbformat": 4,
  "nbformat_minor": 0,
  "metadata": {
    "colab": {
      "name": "Basic_Concepts.ipynb",
      "provenance": []
    },
    "kernelspec": {
      "name": "python3",
      "display_name": "Python 3"
    }
  },
  "cells": [
    {
      "cell_type": "markdown",
      "metadata": {
        "id": "GnI8DrtqHcxj"
      },
      "source": [
        "**Python Tutorial:**\r\n",
        "*   Compilers & Interpreters\r\n",
        "*   Hello World in Python - Command Window - IDEs (PyCharm) - Python Debugger - IDE Debugger\r\n",
        "*   Python Strings - Comments\r\n",
        "*   Indexing and Slicing\r\n",
        "*   Numbers and Arithmetic\r\n",
        "*   Importing modules (.py with functions) & packages/ibraries (python modules in directories structure)\r\n",
        "*   Interactive Help (the Dir, and Help commands)\r\n",
        "*   Python Booleans - Equality and Logical Operators\r\n",
        "*   If, Then, Else in Python\r\n",
        "*   Python Functions\r\n",
        "*   Python Lists\r\n",
        "*   Range Function - Looping\r\n",
        "*   Python Tuples\r\n",
        "*   Sets in Python\r\n",
        "*   List Comprehension\r\n",
        "*   Datetime Module (Dates and Times)\r\n",
        "*   Lambda Expressions & Anonymous Functions (Instructor)\r\n",
        "*   Sorting in Python\r\n",
        "*   Hash Tables - Python Dictionaries\r\n",
        "*   Logging in Python\r\n",
        "*   Text Files in Python\r\n",
        "*   CSV and JSON Files in Python\r\n",
        "*   Map, Filter, and Reduce Functions\r\n",
        "*   Python Random Number Generator (the Random Module)\r\n",
        "*   Python Classes and Objects\r\n",
        "*   Exceptions in Python\r\n",
        "*   NumPy Library"
      ]
    },
    {
      "cell_type": "markdown",
      "metadata": {
        "id": "e-U9hmKVShO4"
      },
      "source": [
        "**Exercise: Create 2 matrices & write a function that multiplies them**"
      ]
    },
    {
      "cell_type": "code",
      "metadata": {
        "id": "-0sDw9f-C32a"
      },
      "source": [
        "!wget -O Mecca.jpg https://static.dw.com/image/49972010_303.jpg\r\n",
        "\r\n",
        "from PIL import Image # The Image Class\r\n",
        "import matplotlib.pyplot as plt\r\n",
        "\r\n",
        "# read an image & display it\r\n",
        "img = Image.open('Mecca.jpg')\r\n",
        "plt.imshow(img)\r\n",
        "\r\n",
        "# retrieve some information about the opened image\r\n",
        "print(img)\r\n",
        "print(img.format)\r\n",
        "print(img.filename)\r\n",
        "print(img.mode)\r\n",
        "print(img.size)\r\n",
        "print(img.width)\r\n",
        "print(img.height)"
      ],
      "execution_count": null,
      "outputs": []
    },
    {
      "cell_type": "code",
      "metadata": {
        "id": "KUn-5JykD6Ga"
      },
      "source": [
        "img.save('Mecca_new1.png') # We can convert the image from jpg to png and save it\r\n",
        "\r\n",
        "img.resize((300, 300))\r\n",
        "gray_img.save('Mecca_new2.png') # We can convert the image from jpg to png and save it (format is detected from file name, because the second parameter isn't provided)\r\n",
        "gray_img = img.convert('L') # convert to grayscale, L stands for 'luminous' and we're taking luminosity values from RGB.\r\n",
        "\r\n",
        "gray_img.save('Mecca_new3.png') # We can convert the image from jpg to png and save it (format is detected from file name, because the second parameter isn't provided)\r\n",
        "gray_img.save(\"Mecca_new4.jpg\",\"PNG\") # What is the difference?"
      ],
      "execution_count": null,
      "outputs": []
    },
    {
      "cell_type": "markdown",
      "metadata": {
        "id": "_tGqIZDTZ9DI"
      },
      "source": [
        "**Exercise: Resize the image to 60%**"
      ]
    },
    {
      "cell_type": "code",
      "metadata": {
        "id": "nI9DKVV6Vl0Y"
      },
      "source": [
        "# Merging Images\r\n",
        "!wget -O Medina.jpg https://i.pinimg.com/564x/46/d3/fe/46d3fe77096db44059fe7116dc3a0978.jpg\r\n",
        "\r\n",
        "img1 = img # reference\r\n",
        "img2 = Image.open('Medina.jpg')\r\n",
        "image1_size = img1.size\r\n",
        "image2_size = img2.size\r\n",
        "new_image = Image.new('RGB', (2*image1_size[0], image1_size[1]), (250,250,250)) # Last parameter is the default color\r\n",
        "new_image.paste(img1,(0,0))\r\n",
        "new_image.paste(img2,(image1_size[0],0))\r\n",
        "\r\n",
        "plt.imshow(img1)\r\n",
        "plt.imshow(img2)\r\n",
        "plt.imshow(new_image)"
      ],
      "execution_count": null,
      "outputs": []
    },
    {
      "cell_type": "markdown",
      "metadata": {
        "id": "mrrNXfvUEjxq"
      },
      "source": [
        "**Exercise: Solve the problem in the cropped second image**"
      ]
    },
    {
      "cell_type": "code",
      "metadata": {
        "id": "DgsORigVXvxJ"
      },
      "source": [
        "# Filtering\r\n",
        "from PIL import ImageFilter\r\n",
        "\r\n",
        "blurred_img = img.filter(ImageFilter.BLUR)\r\n",
        "plt.imshow(blurred_img)"
      ],
      "execution_count": null,
      "outputs": []
    },
    {
      "cell_type": "markdown",
      "metadata": {
        "id": "DCBp67e0aV5x"
      },
      "source": [
        "Availale Filters:\r\n",
        "*   BLUR\r\n",
        "*   CONTOUR\r\n",
        "*   DETAIL\r\n",
        "*   EDGE_ENHANCE\r\n",
        "*   EDGE_ENHANCE_MORE\r\n",
        "*   EMBOSS\r\n",
        "*   FIND_EDGES\r\n",
        "*   SHARPEN\r\n",
        "*   SMOOTH\r\n",
        "*   SMOOTH_MORE"
      ]
    },
    {
      "cell_type": "code",
      "metadata": {
        "id": "BLCsZxIZYKaJ"
      },
      "source": [
        "blurred_img = img.filter(ImageFilter.BoxBlur(5)) # To have more contol\r\n",
        "plt.imshow(blurred_img)"
      ],
      "execution_count": null,
      "outputs": []
    },
    {
      "cell_type": "code",
      "metadata": {
        "id": "BgDXPzoTa8Ph"
      },
      "source": [
        "blurred_img = img.filter(ImageFilter.EMBOSS)\r\n",
        "plt.imshow(blurred_img)"
      ],
      "execution_count": null,
      "outputs": []
    },
    {
      "cell_type": "code",
      "metadata": {
        "id": "nVQZppEvbDWh"
      },
      "source": [
        "blurred_img = img.filter(ImageFilter.CONTOUR)\r\n",
        "plt.imshow(blurred_img)"
      ],
      "execution_count": null,
      "outputs": []
    },
    {
      "cell_type": "code",
      "metadata": {
        "id": "0wCRd7Z1YKWP"
      },
      "source": [
        "# Image crop\r\n",
        "cropped = img.crop((100,110,180,150)) # left, upper, right, lower\r\n",
        "plt.imshow(cropped)"
      ],
      "execution_count": null,
      "outputs": []
    },
    {
      "cell_type": "code",
      "metadata": {
        "id": "WtgNE6_MZh3R"
      },
      "source": [
        "# Flip & Rotate\r\n",
        "# Download a spiderman image\r\n",
        "\r\n",
        "imageObject = Image.open(\"spiderman.jpg\")\r\n",
        "\r\n",
        "hori_flippedImage = imageObject.transpose(Image.FLIP_LEFT_RIGHT) # Do a flip of left and right\r\n",
        "Vert_flippedImage = imageObject.transpose(Image.FLIP_TOP_BOTTOM)\r\n",
        "img_rotated = img.rotate(45)"
      ],
      "execution_count": null,
      "outputs": []
    },
    {
      "cell_type": "code",
      "metadata": {
        "id": "s5cTx3SRbhW6"
      },
      "source": [
        "# Draw or write on an image\r\n",
        "from PIL import ImageDraw, ImageFont\r\n",
        "\r\n",
        "draw = ImageDraw.Draw(img)\r\n",
        "text = \"Mecca\"\r\n",
        "font = ImageFont.truetype('Humor-Sans.ttf', 36) # From /usr/share/fonts/truetype\r\n",
        "# font = ImageFont.load_default()\r\n",
        "\r\n",
        "width, height = img.size\r\n",
        "textwidth, textheight = draw.textsize(text, font)\r\n",
        "\r\n",
        "# calculate the x,y coordinates of the text\r\n",
        "margin = 10\r\n",
        "x = width - textwidth - margin\r\n",
        "y = height - textheight - margin\r\n",
        "\r\n",
        "# draw watermark in the bottom right corner\r\n",
        "draw.text((x, y), text, font=font, fill=(255,255,0))\r\n",
        "plt.imshow(img)"
      ],
      "execution_count": null,
      "outputs": []
    },
    {
      "cell_type": "markdown",
      "metadata": {
        "id": "TTHQVymxd6Dy"
      },
      "source": [
        "**Why not Photoshop?**"
      ]
    },
    {
      "cell_type": "code",
      "metadata": {
        "id": "CNzNkMtlbjUR"
      },
      "source": [
        "draw.line((50, 50, 80, 80), fill=(0, 0, 0), width=10)\r\n",
        "draw.ellipse((25, 25, 50, 50), fill=(255, 0, 0), outline=(0, 0, 0))\r\n",
        "plt.imshow(img)"
      ],
      "execution_count": null,
      "outputs": []
    },
    {
      "cell_type": "markdown",
      "metadata": {
        "id": "5hY6qOpWhlSc"
      },
      "source": [
        "**Excersie: Use what you learned to process an extsing image or a blank image and email me with the result: heraqi@aucegypt.edu. The email title should be: [IP-CV_Lvl1-Day1]Your_Name**"
      ]
    }
  ]
}